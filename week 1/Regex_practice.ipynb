{
 "cells": [
  {
   "cell_type": "markdown",
   "id": "44039f10",
   "metadata": {},
   "source": [
    "# Regex Practice Session"
   ]
  },
  {
   "cell_type": "code",
   "execution_count": 2,
   "id": "f6410d3b",
   "metadata": {},
   "outputs": [],
   "source": [
    "# Importing Regex module\n",
    "import re\n"
   ]
  },
  {
   "cell_type": "markdown",
   "id": "bb3aaacc",
   "metadata": {},
   "source": [
    "### Regex Functions"
   ]
  },
  {
   "cell_type": "code",
   "execution_count": 11,
   "id": "d44fcda2",
   "metadata": {},
   "outputs": [
    {
     "name": "stdout",
     "output_type": "stream",
     "text": [
      "search: true\n",
      "false\n"
     ]
    }
   ],
   "source": [
    "# Match and Search functions\n",
    "# match() checks for a match in the beginging of string and returns a boolean.\n",
    "# search() checks for a match anywhere in the string and returns a booleans.\n",
    "text= \"I'm Vinay and I'm a good person.\"\n",
    "text1=\"Good is not so good\"\n",
    "obj=re.search(\"good\",text)\n",
    "obj1=re.match(\"good\",text)\n",
    "if(obj):\n",
    "    print(\"search: true\")\n",
    "else:\n",
    "    print(\"false\")\n",
    "if(obj1):\n",
    "    print(\"match: true\")\n",
    "else:\n",
    "    print(\"false\")"
   ]
  },
  {
   "cell_type": "code",
   "execution_count": 17,
   "id": "add5fcae",
   "metadata": {},
   "outputs": [
    {
     "name": "stdout",
     "output_type": "stream",
     "text": [
      "['To', ' is a bad ', '. To', ' is Tues', ' and To', ' is going to over after to', '.']\n",
      "['', ' is a bad day. ', ' is Tuesday and ', ' is going to over after today.']\n",
      "['today']\n",
      "['Today', 'Today', 'Today']\n",
      "['day', 'day', 'day', 'day', 'day', 'day']\n"
     ]
    }
   ],
   "source": [
    "# Findall and Split functions\n",
    "# Here the conecpt \"Tokenizing\" is used in parsing strings.\n",
    "# split() : splits the given string as per a matched query supplied in the function.\n",
    "# findall() : finds all the matched strings as per the supplied query in the function.\n",
    "text= \"Today is a bad day. Today is Tuesday and Today is going to over after today.\"\n",
    "print(re.split(\"day\",text))\n",
    "print(re.split(\"Today\",text))\n",
    "print(re.findall(\"today\",text))\n",
    "print(re.findall(\"Today\",text))\n",
    "print(re.findall(\"day\",text))"
   ]
  },
  {
   "cell_type": "markdown",
   "id": "2451f91a",
   "metadata": {},
   "source": [
    "### Anchors\n",
    "\n",
    "Anchors specify the start and/or the end of the string that you are trying to match."
   ]
  },
  {
   "cell_type": "code",
   "execution_count": 31,
   "id": "a169dbb6",
   "metadata": {},
   "outputs": [
    {
     "name": "stdout",
     "output_type": "stream",
     "text": [
      "<re.Match object; span=(0, 7), match='Krishna'>\n",
      "None\n",
      "<re.Match object; span=(87, 90), match='GOD'>\n",
      "None\n",
      "<re.Match object; span=(0, 7), match='Krishna'>\n"
     ]
    }
   ],
   "source": [
    "# ^ : Caret character means that the text the regex processor retrieves must start with the string you specify. ( For Line)\n",
    "# $ : Dollar means that the text the regex processor retrieves must end with the string you specify. ( For Line )\n",
    "# \\A : Matches the begining of a string. (For whole string)\n",
    "# \\Z : Matches the end of a string. (For whole string)\n",
    "txt='Krishna is supremo of all universes.Krishna is cause of all causes. He is the Supreme GOD'\n",
    "print(re.search(\"^Krishna\",txt))\n",
    "print(re.search(\"^He\",txt))\n",
    "print(re.search(\"GOD$\",txt))\n",
    "print(re.search(\"$GOD\",txt))\n",
    "print(re.search(\"\\AKrishna\",txt))"
   ]
  },
  {
   "cell_type": "markdown",
   "id": "f5ee608a",
   "metadata": {},
   "source": [
    "### Groups and Ranges\n"
   ]
  },
  {
   "cell_type": "code",
   "execution_count": 45,
   "id": "f524821a",
   "metadata": {},
   "outputs": [
    {
     "name": "stdout",
     "output_type": "stream",
     "text": [
      "['B', 'B', 'B', 'B']\n",
      "['A', 'B', 'B', 'A', 'A', 'A', 'A', 'B', 'C', 'C', 'C', 'A', 'A', 'B']\n",
      "['AB', 'AB', 'AB']\n",
      "['AB', 'AB', 'AB']\n",
      "['C', 'D', 'G', 'C', 'D', 'G', 'C', 'D', 'G']\n",
      "['A']\n"
     ]
    }
   ],
   "source": [
    "# [...] : It is a set operator. It finds set of charcters written inside the sets.\n",
    "# [abc] : Finds range of values as 'a' or 'b' or 'c'.\n",
    "# [a|c] : pipe operator ('|') can be used in place of 'OR' case\n",
    "# [^abc] : Find range of values which are not 'a','b','c'\n",
    "txt=\"ABBAAAABCDGCDGCDGAAB\"\n",
    "print(re.findall(\"B\",txt))\n",
    "print(re.findall(\"[ABC]\",txt))\n",
    "print(re.findall(\"[A][BC]\",txt))\n",
    "print(re.findall(\"AB|AC\",txt))\n",
    "print(re.findall(\"[^AB]\",txt))\n",
    "print(re.findall(\"^[^B]\",txt)) # It matches the characters which starts from the characters other than \"A\" and \"B\"."
   ]
  },
  {
   "cell_type": "markdown",
   "id": "1dc4b800",
   "metadata": {},
   "source": [
    "### Quantifiers \n",
    "These are expressions which used as the number of times you want a pattern to be matched in order to match."
   ]
  },
  {
   "cell_type": "code",
   "execution_count": 60,
   "id": "1cb2e1db",
   "metadata": {},
   "outputs": [
    {
     "name": "stdout",
     "output_type": "stream",
     "text": [
      "['AB', 'AB', 'ABBB', 'AB', 'AB', 'AB', 'ABBB']\n",
      "['AB', 'AB', 'AABB', 'AB', 'AB', 'AB', 'AABB']\n",
      "['AA', 'AA']\n"
     ]
    }
   ],
   "source": [
    "# * : Matches 0 or more time\n",
    "# + : 1 or more\n",
    "# ? : 0 or more\n",
    "# {n} : exactly n times\n",
    "# {n,} : n or  more than n times\n",
    "# {n,m} : n to m times\n",
    "txt= \"ABABAAABBBABABABAAABBB\"\n",
    "print(re.findall(\"AB{1,5}\",txt))  # It macthes all the B starts with A till 5 times.\n",
    "print(re.findall(\"A{1,2}B{1,2}\",txt))\n",
    "print(re.findall(\"A{2}\",txt))"
   ]
  },
  {
   "cell_type": "markdown",
   "id": "3ca73f47",
   "metadata": {},
   "source": [
    "## Complex Examples"
   ]
  },
  {
   "cell_type": "markdown",
   "id": "4a21856a",
   "metadata": {},
   "source": [
    "### First example ( Ferpa.txt )"
   ]
  },
  {
   "cell_type": "code",
   "execution_count": 65,
   "id": "607622df",
   "metadata": {},
   "outputs": [
    {
     "data": {
      "text/plain": [
       "'Overview[edit]\\nFERPA gives parents access to their child\\'s education records, an opportunity to seek to have the records amended, and some control over the disclosure of information from the records. With several exceptions, schools must have a student\\'s consent prior to the disclosure of education records after that student is 18 years old. The law applies only to educational agencies and institutions that receive funds under a program administered by the U.S. Department of Education.\\n\\nOther regulations under this act, effective starting January 3, 2012, allow for greater disclosures of personal and directory student identifying information and regulate student IDs and e-mail addresses.[2] For example, schools may provide external companies with a student\\'s personally identifiable information without the student\\'s consent.[2]\\n\\nExamples of situations affected by FERPA include school employees divulging information to anyone other than the student about the student\\'s grades or behavior, and school work posted on a bulletin board with a grade. Generally, schools must have written permission from the parent or eligible student in order to release any information from a student\\'s education record.\\n\\nThis privacy policy also governs how state agencies transmit testing data to federal agencies, such as the Education Data Exchange Network.\\n\\nThis U.S. federal law also gave students 18 years of age or older, or students of any age if enrolled in any post-secondary educational institution, the right of privacy regarding grades, enrollment, and even billing information unless the school has specific permission from the student to share that specific type of information.\\n\\nFERPA also permits a school to disclose personally identifiable information from education records of an \"eligible student\" (a student age 18 or older or enrolled in a postsecondary institution at any age) to his or her parents if the student is a \"dependent student\" as that term is defined in Section 152 of the Internal Revenue Code. Generally, if either parent has claimed the student as a dependent on the parent\\'s most recent income tax statement, the school may non-consensually disclose the student\\'s education records to both parents.[3]\\n\\nThe law allowed students who apply to an educational institution such as graduate school permission to view recommendations submitted by others as part of the application. However, on standard application forms, students are given the option to waive this right.\\n\\nFERPA specifically excludes employees of an educational institution if they are not students.\\n\\nThe act is also referred to as the Buckley Amendment, for one of its proponents, Senator James L. Buckley of New York.\\n\\nAccess to public records[edit]\\nThe citing of FERPA to conceal public records that are not \"educational\" in nature has been widely criticized, including by the act\\'s primary Senate sponsor.[4] For example, in the Owasso Independent School District v. Falvo case, an important part of the debate was determining the relationship between peer-grading and \"education records\" as defined in FERPA. In the Court of Appeals, it was ruled that students placing grades on the work of other students made such work into an \"education record.\" Thus, peer-grading was determined as a violation of FERPA privacy policies because students had access to other students\\' academic performance without full consent.[5] However, when the case went to the Supreme Court, it was officially ruled that peer-grading was not a violation of FERPA. This is because a grade written on a student\\'s work does not become an \"education record\" until the teacher writes the final grade into a grade book.[6]\\n\\nStudent medical records[edit]\\nLegal experts have debated the issue of whether student medical records (for example records of therapy sessions with a therapist at an on-campus counseling center) might be released to the school administration under certain triggering events, such as when a student sued his college or university.[7][8]\\n\\nUsually, student medical treatment records will remain under the protection of FERPA, not the Health Insurance Portability and Accountability Act (HIPAA). This is due to the \"FERPA Exception\" written within HIPAA.[9]'"
      ]
     },
     "execution_count": 65,
     "metadata": {},
     "output_type": "execute_result"
    }
   ],
   "source": [
    "# Ferpa.txt from wiki\n",
    "with open(\"../../resources/week 1/datasets/ferpa.txt\",\"r\") as file:\n",
    "    wiki=file.read()\n",
    "wiki"
   ]
  },
  {
   "cell_type": "code",
   "execution_count": 70,
   "id": "a1df8a46",
   "metadata": {},
   "outputs": [
    {
     "data": {
      "text/plain": [
       "['Overview[edit]', 'records[edit]', 'records[edit]']"
      ]
     },
     "execution_count": 70,
     "metadata": {},
     "output_type": "execute_result"
    }
   ],
   "source": [
    "re.findall(\"[a-zA-Z]{1,100}\\[edit\\]\",wiki)\n",
    "# here '\\' is used to escape '[' and ']', otherwise it willl behave like a set operator in place of string."
   ]
  },
  {
   "cell_type": "code",
   "execution_count": 85,
   "id": "2fc66821",
   "metadata": {},
   "outputs": [
    {
     "data": {
      "text/plain": [
       "['Overview[edit]', 'records[edit]', 'records[edit]']"
      ]
     },
     "execution_count": 85,
     "metadata": {},
     "output_type": "execute_result"
    }
   ],
   "source": [
    "re.findall(\"[\\w]{1,100}\\[edit\\]\",wiki) \n",
    "# \\w : it matches all alphanumeric characters as a-z, A-Z, 0-9, -\n"
   ]
  },
  {
   "cell_type": "code",
   "execution_count": 86,
   "id": "0f2968dd",
   "metadata": {},
   "outputs": [
    {
     "data": {
      "text/plain": [
       "['Overview[edit]', 'records[edit]', 'records[edit]']"
      ]
     },
     "execution_count": 86,
     "metadata": {},
     "output_type": "execute_result"
    }
   ],
   "source": [
    "re.findall(\"[\\w]*\\[edit\\]\",wiki) \n",
    "# we can made it short by adding '*', which is also used for matching repeated string"
   ]
  },
  {
   "cell_type": "code",
   "execution_count": 84,
   "id": "4ac6a1ce",
   "metadata": {},
   "outputs": [
    {
     "data": {
      "text/plain": [
       "['[2]\\n\\n', '[3]\\n\\n', '[6]\\n\\n', '[8]\\n\\n']"
      ]
     },
     "execution_count": 84,
     "metadata": {},
     "output_type": "execute_result"
    }
   ],
   "source": [
    "re.findall(\"\\[\\d\\]{1,100}\\n{1,2}\",wiki)  \n",
    "# Finding pattern as : [number]\\n\\n\n",
    "# only possible by using escape character"
   ]
  },
  {
   "cell_type": "code",
   "execution_count": null,
   "id": "0ef174c2",
   "metadata": {},
   "outputs": [],
   "source": []
  }
 ],
 "metadata": {
  "kernelspec": {
   "display_name": "Python 3 (ipykernel)",
   "language": "python",
   "name": "python3"
  },
  "language_info": {
   "codemirror_mode": {
    "name": "ipython",
    "version": 3
   },
   "file_extension": ".py",
   "mimetype": "text/x-python",
   "name": "python",
   "nbconvert_exporter": "python",
   "pygments_lexer": "ipython3",
   "version": "3.10.4"
  }
 },
 "nbformat": 4,
 "nbformat_minor": 5
}
