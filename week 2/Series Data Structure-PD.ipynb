{
 "cells": [
  {
   "cell_type": "code",
   "execution_count": 2,
   "id": "ebf10425",
   "metadata": {},
   "outputs": [],
   "source": [
    "# In this notebook we will discuss about Panda function 'Series' and its uses.\n",
    "# Also some basic operations in Panda.\n",
    "import pandas as pd"
   ]
  },
  {
   "cell_type": "markdown",
   "id": "ba7bf98a",
   "metadata": {},
   "source": [
    "## Series Function"
   ]
  },
  {
   "cell_type": "code",
   "execution_count": 11,
   "id": "e754f6e6",
   "metadata": {},
   "outputs": [
    {
     "name": "stdout",
     "output_type": "stream",
     "text": [
      "0     Vinay\n",
      "1    Pratap\n",
      "2     Singh\n",
      "dtype: object\n",
      "0    3\n",
      "1    2\n",
      "2    5\n",
      "dtype: int64\n"
     ]
    }
   ],
   "source": [
    "strings=['Vinay','Pratap','Singh']\n",
    "ints=[3,2,5]\n",
    "print(pd.Series(strings))  # normal function\n",
    "print(pd.Series(ints))"
   ]
  },
  {
   "cell_type": "markdown",
   "id": "6481e7d8",
   "metadata": {},
   "source": [
    "### With NULL value"
   ]
  },
  {
   "cell_type": "code",
   "execution_count": 13,
   "id": "184e3b7c",
   "metadata": {},
   "outputs": [
    {
     "name": "stdout",
     "output_type": "stream",
     "text": [
      "0     Vinay\n",
      "1    Pratap\n",
      "2     Singh\n",
      "3      None\n",
      "dtype: object\n",
      "0    3.0\n",
      "1    2.0\n",
      "2    5.0\n",
      "3    NaN\n",
      "dtype: float64\n"
     ]
    }
   ],
   "source": [
    "strings=['Vinay','Pratap','Singh',None]\n",
    "ints=[3,2,5,None]\n",
    "print(pd.Series(strings))   # Gives None on print\n",
    "print(pd.Series(ints))    # Gives NaN on print. NaN is a floating point value."
   ]
  },
  {
   "cell_type": "markdown",
   "id": "3a6f84a5",
   "metadata": {},
   "source": [
    "### Series data from Different Methods"
   ]
  },
  {
   "cell_type": "code",
   "execution_count": 16,
   "id": "a95384f8",
   "metadata": {},
   "outputs": [
    {
     "data": {
      "text/plain": [
       "Name     Vinay Pratap\n",
       "Year                3\n",
       "Place            MNIT\n",
       "dtype: object"
      ]
     },
     "execution_count": 16,
     "metadata": {},
     "output_type": "execute_result"
    }
   ],
   "source": [
    "# Creating by Dictionary\n",
    "dict={'Name':\"Vinay Pratap\",'Year':3,'Place':'MNIT'}\n",
    "s=pd.Series(dict)\n",
    "s"
   ]
  },
  {
   "cell_type": "code",
   "execution_count": 17,
   "id": "81d311c1",
   "metadata": {},
   "outputs": [
    {
     "data": {
      "text/plain": [
       "Index(['Name', 'Year', 'Place'], dtype='object')"
      ]
     },
     "execution_count": 17,
     "metadata": {},
     "output_type": "execute_result"
    }
   ],
   "source": [
    "s.index"
   ]
  },
  {
   "cell_type": "code",
   "execution_count": 18,
   "id": "e3af2c56",
   "metadata": {},
   "outputs": [
    {
     "data": {
      "text/plain": [
       "0    (Name, Vinay)\n",
       "1        (Year, 3)\n",
       "2    (Place, MNIT)\n",
       "dtype: object"
      ]
     },
     "execution_count": 18,
     "metadata": {},
     "output_type": "execute_result"
    }
   ],
   "source": [
    "# Creating by Tuples\n",
    "tup=[(\"Name\",\"Vinay\"),(\"Year\",3),(\"Place\",\"MNIT\")]\n",
    "t=pd.Series(tup)\n",
    "t"
   ]
  },
  {
   "cell_type": "code",
   "execution_count": 20,
   "id": "38be8577",
   "metadata": {},
   "outputs": [
    {
     "data": {
      "text/plain": [
       "Name     Vinay\n",
       "Year         3\n",
       "Place     MNIT\n",
       "dtype: object"
      ]
     },
     "execution_count": 20,
     "metadata": {},
     "output_type": "execute_result"
    }
   ],
   "source": [
    "# Index Way\n",
    "s=pd.Series([\"Vinay\",3,\"MNIT\"], index=[\"Name\",\"Year\",\"Place\"])\n",
    "s"
   ]
  },
  {
   "cell_type": "code",
   "execution_count": 21,
   "id": "14aef59f",
   "metadata": {},
   "outputs": [
    {
     "data": {
      "text/plain": [
       "Name     Vinay\n",
       "Year         3\n",
       "Class        A\n",
       "Batch      NaN\n",
       "dtype: object"
      ]
     },
     "execution_count": 21,
     "metadata": {},
     "output_type": "execute_result"
    }
   ],
   "source": [
    "# Index method with dict\n",
    "dict={'Name':\"Vinay\",'Year':3,'Place':'MNIT','Class':'A'}\n",
    "s=pd.Series(dict,index=['Name','Year','Class','Batch']) # It will find only indexs which are specified and rest of them will be ignored.\n",
    "s"
   ]
  },
  {
   "cell_type": "code",
   "execution_count": null,
   "id": "7d98f2df",
   "metadata": {},
   "outputs": [],
   "source": []
  }
 ],
 "metadata": {
  "kernelspec": {
   "display_name": "Python 3 (ipykernel)",
   "language": "python",
   "name": "python3"
  },
  "language_info": {
   "codemirror_mode": {
    "name": "ipython",
    "version": 3
   },
   "file_extension": ".py",
   "mimetype": "text/x-python",
   "name": "python",
   "nbconvert_exporter": "python",
   "pygments_lexer": "ipython3",
   "version": "3.10.4"
  }
 },
 "nbformat": 4,
 "nbformat_minor": 5
}
