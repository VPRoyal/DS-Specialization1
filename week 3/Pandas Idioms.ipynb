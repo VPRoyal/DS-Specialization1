{
 "cells": [
  {
   "cell_type": "markdown",
   "id": "67a6ac55",
   "metadata": {},
   "source": [
    "# Pandas Idioms"
   ]
  },
  {
   "cell_type": "markdown",
   "id": "83c720a2",
   "metadata": {},
   "source": [
    "### Apply Function"
   ]
  },
  {
   "cell_type": "code",
   "execution_count": null,
   "id": "b01795f4",
   "metadata": {},
   "outputs": [],
   "source": [
    "# DataFrame.apply(func, axis=0, raw=False, result_type=None, args=(), **kwargs)\n",
    "# We can appply any function on the dataframe in which dataframe column or row will be input through the function.\n",
    "# axis parameter will tell whether function will apply on column or row\n",
    "# Details about other parameters can be get through the documentation."
   ]
  }
 ],
 "metadata": {
  "kernelspec": {
   "display_name": "Python 3 (ipykernel)",
   "language": "python",
   "name": "python3"
  },
  "language_info": {
   "codemirror_mode": {
    "name": "ipython",
    "version": 3
   },
   "file_extension": ".py",
   "mimetype": "text/x-python",
   "name": "python",
   "nbconvert_exporter": "python",
   "pygments_lexer": "ipython3",
   "version": "3.10.4"
  }
 },
 "nbformat": 4,
 "nbformat_minor": 5
}
